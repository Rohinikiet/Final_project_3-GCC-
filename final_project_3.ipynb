{
  "nbformat": 4,
  "nbformat_minor": 0,
  "metadata": {
    "colab": {
      "provenance": [],
      "toc_visible": true
    },
    "kernelspec": {
      "name": "python3",
      "display_name": "Python 3"
    },
    "language_info": {
      "name": "python"
    }
  },
  "cells": [
    {
      "cell_type": "code",
      "execution_count": null,
      "metadata": {
        "colab": {
          "base_uri": "https://localhost:8080/"
        },
        "id": "C6NVocFllKlV",
        "outputId": "957615a5-6908-4db2-e590-cc589d904b45"
      },
      "outputs": [
        {
          "output_type": "stream",
          "name": "stdout",
          "text": [
            "Requirement already satisfied: pandas in /usr/local/lib/python3.10/dist-packages (1.5.3)\n",
            "Requirement already satisfied: python-dateutil>=2.8.1 in /usr/local/lib/python3.10/dist-packages (from pandas) (2.8.2)\n",
            "Requirement already satisfied: pytz>=2020.1 in /usr/local/lib/python3.10/dist-packages (from pandas) (2022.7.1)\n",
            "Requirement already satisfied: numpy>=1.21.0 in /usr/local/lib/python3.10/dist-packages (from pandas) (1.22.4)\n",
            "Requirement already satisfied: six>=1.5 in /usr/local/lib/python3.10/dist-packages (from python-dateutil>=2.8.1->pandas) (1.16.0)\n"
          ]
        }
      ],
      "source": [
        "pip install pandas"
      ]
    },
    {
      "cell_type": "code",
      "source": [
        "import pandas as pd\n",
        "\n",
        "def get_input():\n",
        "    input_data = []\n",
        "    num_entries = int(input(\"Enter the number of entries: \"))\n",
        "\n",
        "    for i in range(num_entries):\n",
        "        name = input(\"Enter Name: \")\n",
        "        rollno = input(\"Enter rollno: \")\n",
        "        percentage = float(input(\"Enter percentage: \"))\n",
        "        age = int(input(\"Enter Age: \"))\n",
        "        gender = input(\"Enter gender: \")\n",
        "        city = input(\"Enter City: \")\n",
        "        entry = {\"Name\": name, \"Roll No\": rollno, \"Percentage\": percentage, \"Age\": age, \"Gender\":gender, \"City\": city}\n",
        "        input_data.append(entry)\n",
        "\n",
        "    return input_data\n",
        "\n",
        "def process_data(input_data):\n",
        "    # Add any processing steps you need here\n",
        "    return input_data\n",
        "\n",
        "def save_to_excel(data, file_name):\n",
        "    df = pd.DataFrame(data)\n",
        "    df.to_excel(file_name, index=False)\n",
        "    print(f\"Data successfully saved to {file_name}\")\n",
        "\n",
        "if __name__ == \"__main__\":\n",
        "    input_data = get_input()\n",
        "    processed_data = process_data(input_data)\n",
        "\n",
        "    # Provide the desired file name to store the data in Excel\n",
        "    output_file_name = \"output_data.xlsx\"\n",
        "    save_to_excel(processed_data, output_file_name)\n"
      ],
      "metadata": {
        "colab": {
          "base_uri": "https://localhost:8080/"
        },
        "id": "c8IbnUMElV00",
        "outputId": "5f940d6f-b2b5-4cf1-e4d6-81ddeff23ab5"
      },
      "execution_count": 2,
      "outputs": [
        {
          "output_type": "stream",
          "name": "stdout",
          "text": [
            "Enter the number of entries: 4\n",
            "Enter Name: rohini\n",
            "Enter rollno: 21jn1a4576\n",
            "Enter percentage: 75.4\n",
            "Enter Age: 19\n",
            "Enter gender: female\n",
            "Enter City: vizag\n",
            "Enter Name: mounika\n",
            "Enter rollno: 21jn1a4582\n",
            "Enter percentage: 75.4\n",
            "Enter Age: 20\n",
            "Enter gender: female\n",
            "Enter City: sklm\n",
            "Enter Name: anusha\n",
            "Enter rollno: 21jn1a4580\n",
            "Enter percentage: 76.5\n",
            "Enter Age: 21\n",
            "Enter gender: other\n",
            "Enter City: vzm\n",
            "Enter Name: prathyu\n",
            "Enter rollno: 21b21a4322\n",
            "Enter percentage: 78.0\n",
            "Enter Age: 20\n",
            "Enter gender: female\n",
            "Enter City: kakinada\n",
            "Data successfully saved to output_data.xlsx\n"
          ]
        }
      ]
    },
    {
      "cell_type": "code",
      "source": [],
      "metadata": {
        "id": "G15OBZiElc3X"
      },
      "execution_count": null,
      "outputs": []
    },
    {
      "cell_type": "code",
      "source": [],
      "metadata": {
        "id": "XMuvFeNBvOgE"
      },
      "execution_count": null,
      "outputs": []
    }
  ]
}